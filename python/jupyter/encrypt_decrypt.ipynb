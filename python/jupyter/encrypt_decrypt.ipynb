{
 "cells": [
  {
   "cell_type": "markdown",
   "metadata": {},
   "source": [
    "### Installation\n",
    "\n",
    "`pip install pycryptodome`\n",
    "\n",
    "### Pycryptodome\n",
    "* https://pypi.org/project/pycryptodome/\n",
    "* https://pycryptodome.readthedocs.io/en/latest/src/installation.html\n",
    "* https://pycryptodome.readthedocs.io/en/latest/src/features.html\n",
    "* https://pycryptodome.readthedocs.io/en/latest/src/api.html"
   ]
  },
  {
   "cell_type": "code",
   "execution_count": 4,
   "metadata": {
    "tags": []
   },
   "outputs": [
    {
     "name": "stdout",
     "output_type": "stream",
     "text": [
      "[PKCS1_OAEP] >>>>>>>>>>>>>>>>>>>>>>>>>>>>>>>>>>>>>>>>>>>>>>>>>>>>>>>>>>>>>>>>>>>>>>>>>>>>>>>>>>>>>>>>>>>>>>>>>>>>>>>>>>>>>>>>>>>>>>>>>>>>>>>>>>>>>>>>>>>>>>>>>>>>>>>>>>>>>>>>>>>>>>>>>>>>>>>>>>>>>>>>>>>>>>>>>>>>>>>>\n",
      "| Raw msg  : {\"title\": \"Because\", \"description\": \"I'm stupid\", \"salt1\": \"13c0cb4a13c0cc8a13c0ccda13c0cd16\", \"salt2\": \"13c0cd5213c0cd9813c0cdc013c0cdfc\"}\n",
      "| Value    : b'{\"title\": \"Because\", \"description\": \"I\\'m stupid\", \"salt1\": \"13c0cb4a13c0cc8a13c0ccda13c0cd16\", \"salt2\": \"13c0cd5213c0cd9813c0cdc013c0cdfc\"}'\n",
      "| Encrypted: Cs/MAvtijCymKqW24Q6eBjhu4rnRTFagQzEihNUXJb/8KvvwgDGYXhzeKQgCrf7wxqMrxlnJ+oYnt4a6WsURkYZuFDQhv+MNZ3VeBmVjkMOQ6pXGnEucqZ/iyQk8/q0juOq38vd3OBx53rV+LqMR5dbhDjj49zDHE0T4vJNfdW+qLOnMkwjWHdhUFqiip5HvqfzP67R3MW+JwLQBW3gEGngI2dyleC7IisYPRTNA+Cn/EVFRcPMpfgI3vOvLNOREgKcBrduag2F6ZfiEmHbX7PB/2hTBWwL3r2ci+UcDleSh9rUxz6yWIiGDGu/RF92BVgP1vwf02tZfHyK5z+/LgEMv+m9Cq+Dp/f9GZdtYaawcPU6Ctq1f/qRAcd7efBoTYGVp7Ji874TJV+dK5nsdILsMDwZZJZXiRz7csBtV76gjZsY3dJ8wpJVs7Idge6B3R9+dsVXg6TLq+HpAERn6Zy7LLZMg1bmKZLoeSdBhkKEqlHnyz5TXc7h9XDyC2uvZREl3Ywz1NG7ZGamL+X0VFQrb3s9Oxg8vJj9fml4IDSadzbGr4/ofAkEuz+TK8uSTtQTi1/SWgm5xAksojaexbHLE1uojOHUdrViraWVQrYmNpQdShEucwc7Fj8ct9+wKcUdFldoNjPDfqd7Ld28209dYwRdnTO9+FBSzmW6Fdj8=\n",
      "| Decrypt  : {\"title\": \"Because\", \"description\": \"I'm stupid\", \"salt1\": \"13c0cb4a13c0cc8a13c0ccda13c0cd16\", \"salt2\": \"13c0cd5213c0cd9813c0cdc013c0cdfc\"}\n",
      "[PKCS1_OAEP] <<<<<<<<<<<<<<<<<<<<<<<<<<<<<<<<<<<<<<<<<<<<<<<<<<<<<<<<<<<<<<<<<<<<<<<<<<<<<<<<<<<<<<<<<<<<<<<<<<<<<<<<<<<<<<<<<<<<<<<<<<<<<<<<<<<<<<<<<<<<<<<<<<<<<<<<<<<<<<<<<<<<<<<<<<<<<<<<<<<<<<<<<<<<<<<<<<<<<<<<\n",
      "--------------------------------------------------------------------------------------------------------------------------------------------------------------------------------------------------------\n",
      "[PKCS1_v1_5] >>>>>>>>>>>>>>>>>>>>>>>>>>>>>>>>>>>>>>>>>>>>>>>>>>>>>>>>>>>>>>>>>>>>>>>>>>>>>>>>>>>>>>>>>>>>>>>>>>>>>>>>>>>>>>>>>>>>>>>>>>>>>>>>>>>>>>>>>>>>>>>>>>>>>>>>>>>>>>>>>>>>>>>>>>>>>>>>>>>>>>>>>>>>>>>>>>>>>>>>\n",
      "| Raw msg  : {\"title\": \"Because\", \"description\": \"I'm stupid\", \"salt1\": \"13c0cb4a13c0cc8a13c0ccda13c0cd16\", \"salt2\": \"13c0cd5213c0cd9813c0cdc013c0cdfc\"}\n",
      "| Value    : b'{\"title\": \"Because\", \"description\": \"I\\'m stupid\", \"salt1\": \"13c0cb4a13c0cc8a13c0ccda13c0cd16\", \"salt2\": \"13c0cd5213c0cd9813c0cdc013c0cdfc\"}'\n",
      "| Encrypted: sl6M6NKQ7L5h32x6t2XGkVTojWL6TiVFbxC4CDa5G48DkLy6wSOThGaJxIAiVBCnJkImWd52KV3BtARpBtamRtu7jzk2Bjni7YG7QHnvzI2Q/wnD8KJLFTqvMHWVM0zjMap/460J9WoGWPE7g9RJvjNsPLivc7LaH2YdiNeoOshBmTzWi8XsWgFqpo1KZX8AhN7L1H/3AfNbHIFEjQJZJspNtkCKVRvEGQr/XzqqZog2eVv2tFpd9SxzPriHEsAp0lRljCMPv/KC5b/518C6DrvGyMCcWGCJepYTyedfmTTIDw9raY5A4GNchR30ySQrSyDnkxB9fKto+unNNFTYrbdPXI6LWVLYtjw4RdJ9Sbi7w2TJoSK0ju8iibF6QU18Quc+BB0fAiTm+eIhgX4I8PHiD6IW1quxZSYoNF3XO3nfyOkB0ZsAC80TgB3A7EVnWMX3DlTQr76hAg1oVT7OZVfsPEQ+SSEJI6vemuPg59Hhi4/2MHp2MZSvmL0PjWr7zKb8WSV2lqdqAN6hFUHnB8Y/YLtdxtVEoUXBHjwXCnjuY15l1QA9lLtT1Vhrs0MJATBBRYX/YhB9Cg80ZpL86BExC+7JS8fHqTRstJMtGN4KCroeFxEA7Tc1AzwETBxbneOkR4L5OBLEy5gEoH3qFdKhvPpN6xyHtMm3eqHxOaY=\n",
      "| Decrypt  : {\"title\": \"Because\", \"description\": \"I'm stupid\", \"salt1\": \"13c0cb4a13c0cc8a13c0ccda13c0cd16\", \"salt2\": \"13c0cd5213c0cd9813c0cdc013c0cdfc\"}\n",
      "[PKCS1_v1_5] <<<<<<<<<<<<<<<<<<<<<<<<<<<<<<<<<<<<<<<<<<<<<<<<<<<<<<<<<<<<<<<<<<<<<<<<<<<<<<<<<<<<<<<<<<<<<<<<<<<<<<<<<<<<<<<<<<<<<<<<<<<<<<<<<<<<<<<<<<<<<<<<<<<<<<<<<<<<<<<<<<<<<<<<<<<<<<<<<<<<<<<<<<<<<<<<<<<<<<<<\n"
     ]
    }
   ],
   "source": [
    "import base64\n",
    "import json\n",
    "from Crypto.PublicKey import RSA\n",
    "import uuid\n",
    "\n",
    "uuid1 = lambda: str(uuid.uuid1()).split(\"-\")[0]\n",
    "salt = lambda: f\"{uuid1()}{uuid1()}{uuid1()}{uuid1()}\"\n",
    "raw_msg = dict(title=\"Because\", description=\"I'm stupid\", salt1=salt(), salt2=salt())\n",
    "raw_msg = json.dumps(raw_msg, ensure_ascii=False)\n",
    "\n",
    "with open(\"../../resources/example_key.pub\") as _fpubk:\n",
    "    publickey = _fpubk.read()\n",
    "\n",
    "with open(\"../../resources/example_key\") as _fpk:\n",
    "    privatekey = _fpk.read()\n",
    "\n",
    "\n",
    "def encrypt_decrypt_oaep():\n",
    "    # https://pycryptodome.readthedocs.io/en/latest/src/cipher/oaep.html\n",
    "    #\n",
    "    def _cipher(rsa_key):    \n",
    "        rsakey = RSA.importKey(rsa_key)\n",
    "\n",
    "        from Crypto.Cipher import PKCS1_OAEP\n",
    "        cipher = PKCS1_OAEP.new(rsakey)\n",
    "        return cipher\n",
    "    \n",
    "    # Encrypted >>>>>>>>>>>>>>\n",
    "    cipher = _cipher(publickey)\n",
    "    msg = raw_msg.encode('utf-8')\n",
    "    encrypt_cipher_text = cipher.encrypt(msg)\n",
    "\n",
    "    # Decrypted >>>>>>>>>>>>>>\n",
    "    cipher = _cipher(privatekey)\n",
    "    decrypt_cipher_text = cipher.decrypt(encrypt_cipher_text)\n",
    "    \n",
    "    print(f\"[PKCS1_OAEP] {'>' * 200}\")\n",
    "    print(f\"| Raw msg  : {raw_msg}\")\n",
    "    print(f\"| Value    : {msg}\")\n",
    "    print(f\"| Encrypted: {base64.b64encode(encrypt_cipher_text).decode('utf-8')}\")\n",
    "    print(f\"| Decrypt  : {decrypt_cipher_text.decode('utf-8')}\")\n",
    "    print(f\"[PKCS1_OAEP] {'<' * 200}\")\n",
    "\n",
    "\n",
    "def encrypt_decrypt_v15():\n",
    "    # https://pycryptodome.readthedocs.io/en/latest/src/cipher/pkcs1_v1_5.html\n",
    "    #\n",
    "    def _cipher(rsa_key):    \n",
    "        rsakey = RSA.importKey(rsa_key)\n",
    "\n",
    "        from Crypto.Cipher import PKCS1_v1_5\n",
    "        cipher = PKCS1_v1_5.new(rsakey)\n",
    "        return cipher\n",
    "    \n",
    "    # Encrypted >>>>>>>>>>>>>>\n",
    "    cipher = _cipher(publickey)\n",
    "    msg = raw_msg.encode('utf-8')\n",
    "    encrypt_cipher_text = cipher.encrypt(msg)\n",
    "\n",
    "    # Decrypted >>>>>>>>>>>>>>\n",
    "    cipher = _cipher(privatekey)\n",
    "    sentinel = salt()\n",
    "    decrypt_cipher_text = cipher.decrypt(encrypt_cipher_text, sentinel, expected_pt_len=len(raw_msg))\n",
    "    \n",
    "    print(f\"[PKCS1_v1_5] {'>' * 200}\")\n",
    "    print(f\"| Raw msg  : {raw_msg}\")\n",
    "    print(f\"| Value    : {msg}\")\n",
    "    print(f\"| Encrypted: {base64.b64encode(encrypt_cipher_text).decode('utf-8')}\")\n",
    "    print(f\"| Decrypt  : {decrypt_cipher_text.decode('utf-8')}\")\n",
    "    print(f\"[PKCS1_v1_5] {'<' * 200}\")\n",
    "    \n",
    "encrypt_decrypt_oaep()\n",
    "print(\"-\" * 200)\n",
    "encrypt_decrypt_v15()\n"
   ]
  }
 ],
 "metadata": {
  "kernelspec": {
   "display_name": ".venv",
   "language": "python",
   "name": "python3"
  },
  "language_info": {
   "codemirror_mode": {
    "name": "ipython",
    "version": 3
   },
   "file_extension": ".py",
   "mimetype": "text/x-python",
   "name": "python",
   "nbconvert_exporter": "python",
   "pygments_lexer": "ipython3",
   "version": "3.11.4"
  },
  "orig_nbformat": 4
 },
 "nbformat": 4,
 "nbformat_minor": 2
}
