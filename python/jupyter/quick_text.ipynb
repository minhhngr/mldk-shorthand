{
 "cells": [
  {
   "cell_type": "code",
   "execution_count": 4,
   "metadata": {},
   "outputs": [
    {
     "name": "stdout",
     "output_type": "stream",
     "text": [
      "Hello in Mama\n",
      "None\n",
      "george\n"
     ]
    }
   ],
   "source": [
    "import functools\n",
    "\n",
    "class A:\n",
    "    \n",
    "    def hello(self, value):\n",
    "        print(f'Hello in', value)\n",
    "        \n",
    "    hello_papa = functools.partialmethod(hello)\n",
    "\n",
    "    def hello_mama(self):\n",
    "        print(self.hello_papa('Mama'))\n",
    "        \n",
    "a = A().hello_mama()\n",
    "\n",
    "\n",
    "tmp = {\n",
    "    int: \"Integer\"\n",
    "}\n",
    "tmp[int]\n",
    "\n",
    "mydict = {'george': \"aa\", 'amber': 19}\n",
    "print(list(mydict.keys())[list(mydict.values()).index(\"aa\")])"
   ]
  }
 ],
 "metadata": {
  "kernelspec": {
   "display_name": ".venv",
   "language": "python",
   "name": "python3"
  },
  "language_info": {
   "codemirror_mode": {
    "name": "ipython",
    "version": 3
   },
   "file_extension": ".py",
   "mimetype": "text/x-python",
   "name": "python",
   "nbconvert_exporter": "python",
   "pygments_lexer": "ipython3",
   "version": "3.11.4"
  },
  "orig_nbformat": 4
 },
 "nbformat": 4,
 "nbformat_minor": 2
}
