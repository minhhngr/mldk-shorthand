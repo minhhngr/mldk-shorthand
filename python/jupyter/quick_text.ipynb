{
 "cells": [
  {
   "cell_type": "code",
   "execution_count": 4,
   "metadata": {},
   "outputs": [
    {
     "name": "stdout",
     "output_type": "stream",
     "text": [
      "Hello in Mama\n",
      "None\n",
      "george\n"
     ]
    }
   ],
   "source": [
    "import functools\n",
    "\n",
    "class A:\n",
    "    \n",
    "    def hello(self, value):\n",
    "        print(f'Hello in', value)\n",
    "        \n",
    "    hello_papa = functools.partialmethod(hello)\n",
    "\n",
    "    def hello_mama(self):\n",
    "        print(self.hello_papa('Mama'))\n",
    "        \n",
    "a = A().hello_mama()\n",
    "\n",
    "\n",
    "tmp = {\n",
    "    int: \"Integer\"\n",
    "}\n",
    "tmp[int]\n",
    "\n",
    "mydict = {'george': \"aa\", 'amber': 19}\n",
    "print(list(mydict.keys())[list(mydict.values()).index(\"aa\")])"
   ]
  },
  {
   "cell_type": "code",
   "execution_count": 17,
   "metadata": {},
   "outputs": [
    {
     "name": "stdout",
     "output_type": "stream",
     "text": [
      "Tui la >>  <generator object tui_la_func_yield at 0x10f274fb0>\n",
      "Hello, tui la func_a\n",
      "Tui la giá trị truyền vào\n",
      "Hello, tui la func_b\n"
     ]
    }
   ],
   "source": [
    "tui_la_func_a = lambda : print('Hello, tui la func_a')\n",
    "tui_la_func_b = lambda : print('Hello, tui la func_b')\n",
    "tui_la_func_c = lambda x : x\n",
    "\n",
    "def tui_la_func_yield(value):\n",
    "    tui_la_func_a()\n",
    "    yield tui_la_func_c(value)\n",
    "    tui_la_func_b()\n",
    "\n",
    "tui_la_func = tui_la_func_yield('Tui la giá trị truyền vào')\n",
    "print(\"Tui la >> \",tui_la_func)\n",
    "\n",
    "for _func in tui_la_func:\n",
    "    print(_func)\n"
   ]
  }
 ],
 "metadata": {
  "kernelspec": {
   "display_name": ".venv",
   "language": "python",
   "name": "python3"
  },
  "language_info": {
   "codemirror_mode": {
    "name": "ipython",
    "version": 3
   },
   "file_extension": ".py",
   "mimetype": "text/x-python",
   "name": "python",
   "nbconvert_exporter": "python",
   "pygments_lexer": "ipython3",
   "version": "3.11.4"
  },
  "orig_nbformat": 4
 },
 "nbformat": 4,
 "nbformat_minor": 2
}
