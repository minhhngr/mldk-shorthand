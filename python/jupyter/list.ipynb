{
 "cells": [
  {
   "cell_type": "code",
   "execution_count": 2,
   "metadata": {},
   "outputs": [
    {
     "name": "stdout",
     "output_type": "stream",
     "text": [
      "a b:  True\n",
      "\n",
      "b a:  False\n"
     ]
    }
   ],
   "source": [
    "tmp = range(1, 1000)\n",
    "\n",
    "\n",
    "# Compare list, with index\n",
    "expected_list = \"a b c d e f g h i k l m n o a p q r s t u v w x y z\".split() * 24\n",
    "sublist = \"a b\"\n",
    "\n",
    "\n",
    "check_contains = (lambda mainlist, sublist: mainlist[mainlist.index(sublist[0]) :][: len(sublist)] == sublist)\n",
    "\n",
    "\n",
    "def check_contains_basic(mainlist, sublist):\n",
    "    for i in range(len(mainlist)):\n",
    "        if mainlist[i : i + len(sublist)] == sublist:\n",
    "            return True\n",
    "    return False\n",
    "\n",
    "\n",
    "# one_line_solution_2 = lambda mainlist, sublist: any(mainlist[i:i + len(sublist)] == sublist for i, _ in enumerate(mainlist))\n",
    "# one_line_solution_3 = lambda mainlist, sublist: any(mainlist[i:i + len(sublist)] == sublist for i in range(len(mainlist)))\n",
    "\n",
    "\n",
    "print(\"a b: \", check_contains(expected_list, \"o a p\".split()))\n",
    "# print('a b c: ',    one_line_solution_1(expected_list, 'a b c'.split()))\n",
    "# print('a b c d: ',  one_line_solution_1(expected_list, 'a b c d'.split()))\n",
    "# print('m n o: ',    one_line_solution_1(expected_list, 'm n o'.split()))\n",
    "# print('m n o p: ',  one_line_solution_1(expected_list, 'm n o p'.split()))\n",
    "# print('k l m n o:', one_line_solution_1(expected_list, 'k l m n'.split()))\n",
    "\n",
    "print(\"\")\n",
    "print(\"b a: \", check_contains(expected_list, \"b a\".split()))\n",
    "# print('a c b: ',     check_contains(expected_list, 'a c b'.split()))\n",
    "# print('a d c b: ',   one_line_solution_1(expected_list, 'a d c b'.split()))\n",
    "# print('o m n: ',     one_line_solution_1(expected_list, 'o m n'.split()))\n",
    "# print('o m n p: ',   one_line_solution_1(expected_list, 'o m n p'.split()))\n",
    "# print('q n o m q: ', one_line_solution_3(expected_list, 'q n o m q'.split()))"
   ]
  },
  {
   "cell_type": "code",
   "execution_count": null,
   "metadata": {},
   "outputs": [],
   "source": [
    "n = list(range(1, 100))\n",
    "\n",
    "# Get index [start:stop] in list\n",
    "index = 0\n",
    "max = 50\n",
    "while index < len(n):\n",
    "    print(n[index:index + max])\n",
    "    index -= -50"
   ]
  },
  {
   "cell_type": "code",
   "execution_count": null,
   "metadata": {},
   "outputs": [],
   "source": [
    "# Merged Lists\n",
    "\n",
    "# MERGED LIST WITH CONDITION ISN'T EMPTY\n",
    "# --------------------------------------\n",
    "\n",
    "## Input\n",
    "in1 = [1, \"\", 2, 4, 5, 6]\n",
    "in2 = [3, 5, 7, 9, 8, \"\", \"\"]\n",
    "\n",
    "## Output\n",
    "out1 = [x for x in in1 + in2 if x] ### Way 1\n",
    "out2 = [x for i12 in (in1, in2) for x in i12 if x] ### Way 2 \n",
    "\n",
    "### Way 3\n",
    "# in1.extend(in2)\n",
    "# out3 = [x for x in in1 if x] \n",
    "in2.extend(in1)\n",
    "out3 = [x for x in in2 if x]\n",
    "\n",
    "\n",
    "# Results\n",
    "# -------\n",
    "print(\n",
    "f\"\"\">>>>>>>>>>>>>>>>>>>> RESULTS\n",
    "--------------------------------\n",
    "> out1: {out1}\n",
    "> out2: {out2}\n",
    "> out3: {out3}\n",
    "\n",
    "-------------------------------\n",
    "<<<<<<<<<<<<<<<<<<<< END RESULT\n",
    "\"\"\"\n",
    ")"
   ]
  },
  {
   "cell_type": "code",
   "execution_count": null,
   "metadata": {},
   "outputs": [],
   "source": [
    "# Filter value and choices items has value\n",
    "# ----------------------------------------\n",
    "\n",
    "in1 = [1, 2,  \"\", 4,  5, \"\", 7, \"\", 9, \"\", 1]\n",
    "in2 = [1, \"\", 3,  \"\", 5, 6,  7, 8,  8, 1, 4]\n",
    "\n",
    "# Way 1\n",
    "_in1, _int2 = (in1, in2) if len(in1) >= len(in2) else (in2, in1)  # Swap list\n",
    "out = [_in1[i] or _int2[i] for i in range(len(_in1))]\n",
    "\n",
    "# Way 2 (Using itertools)\n",
    "from itertools import zip_longest\n",
    "out2 = [x or y for x, y in zip_longest(in1, in2, fillvalue=\"\")]\n",
    "\n",
    "# Results\n",
    "# -------\n",
    "print(\n",
    "f\"\"\">>>>>>>>>>>>>>>>>>>> RESULTS\n",
    "--------------------------------\n",
    "> out:  {out}\n",
    "> out2: {out2}\n",
    "\n",
    "-------------------------------\n",
    "<<<<<<<<<<<<<<<<<<<< END RESULT\n",
    "\"\"\"\n",
    ")"
   ]
  },
  {
   "cell_type": "code",
   "execution_count": null,
   "metadata": {},
   "outputs": [],
   "source": [
    "##\n",
    "# Given an array of integers nums and an integer target, return indices of the two numbers such that they add up to target.\n",
    "# You may assume that each input would have exactly one solution, and you may not use the same element twice.\n",
    "# You can return the answer in any order.\n",
    "\"\"\"\n",
    "    Example 1:\n",
    "    \n",
    "    Input: nums = [2,7,11,15], target = 9\n",
    "    Output: [0,1]\n",
    "    Explanation: Because nums[0] + nums[1] == 9, we return [0, 1].\n",
    "\"\"\"\n",
    "nums = [2, 11, 7, 15]\n",
    "cond = 9\n",
    "\n",
    "aa = next(([i, j] for i, num1 in enumerate(nums) for j, num2 in enumerate(nums[i+1:], start=i+1) if num1 + num2 == cond), [])\n",
    "print(aa)\n",
    "\n",
    "def given_an_arr1(nums, target):\n",
    "    num_indices = {}  \n",
    "    \n",
    "    for i, num in enumerate(nums):\n",
    "        complement = target - num\n",
    "\n",
    "        if complement in num_indices:\n",
    "            return [num_indices[complement], i]  \n",
    "        \n",
    "        num_indices[num] = i  \n",
    "    \n",
    "    return []\n",
    "\n",
    "def given_an_arr2(nums, target):\n",
    "    n = len(nums)\n",
    "    \n",
    "    for i in range(n):\n",
    "        for j in range(i + 1, n):\n",
    "            if nums[i] + nums[j] == target:\n",
    "                return [i, j]\n",
    "    \n",
    "    return []\n",
    "\n",
    "def given_an_arr3(nums, target):\n",
    "    left, right = 0, len(nums) - 1\n",
    "    \n",
    "    while left < right:\n",
    "        current_sum = nums[left] + nums[right]\n",
    "        \n",
    "        if current_sum == target:\n",
    "            return [left, right]\n",
    "        elif current_sum < target:\n",
    "            left += 1\n",
    "        else:\n",
    "            right -= 1\n",
    "    \n",
    "    return []\n"
   ]
  },
  {
   "cell_type": "code",
   "execution_count": 37,
   "metadata": {},
   "outputs": [
    {
     "data": {
      "text/plain": [
       "True"
      ]
     },
     "execution_count": 37,
     "metadata": {},
     "output_type": "execute_result"
    }
   ],
   "source": [
    "ALL_LOG = False\n",
    "ELEMENT_DEBUGGING = False\n",
    "API_DEBUGGING = False\n",
    "\n",
    "((not ELEMENT_DEBUGGING) and (not ALL_LOG)) or print('Hello World')\n",
    "(not API_DEBUGGING) and (not ALL_LOG) or print('API LOG')\n"
   ]
  }
 ],
 "metadata": {
  "kernelspec": {
   "display_name": ".venv",
   "language": "python",
   "name": "python3"
  },
  "language_info": {
   "codemirror_mode": {
    "name": "ipython",
    "version": 3
   },
   "file_extension": ".py",
   "mimetype": "text/x-python",
   "name": "python",
   "nbconvert_exporter": "python",
   "pygments_lexer": "ipython3",
   "version": "3.11.4"
  },
  "orig_nbformat": 4
 },
 "nbformat": 4,
 "nbformat_minor": 2
}
